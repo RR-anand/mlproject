{
 "cells": [
  {
   "cell_type": "code",
   "execution_count": null,
   "id": "ac9c77e7",
   "metadata": {},
   "outputs": [],
   "source": [
    "import pandas as pd \n",
    "import numpy as np \n",
    "import matplotlib.pyplot as plt \n",
    "import seaborn as sns\n",
    "%matplotlib inline "
   ]
  },
  {
   "cell_type": "code",
   "execution_count": null,
   "id": "55391972",
   "metadata": {},
   "outputs": [],
   "source": [
    "df = pd.read_csv('train.csv')\n",
    "df.head()"
   ]
  },
  {
   "cell_type": "code",
   "execution_count": null,
   "id": "19fda329",
   "metadata": {},
   "outputs": [],
   "source": [
    "df.shape"
   ]
  },
  {
   "cell_type": "code",
   "execution_count": null,
   "id": "c1fa0657",
   "metadata": {
    "scrolled": true
   },
   "outputs": [],
   "source": [
    "df.columns"
   ]
  },
  {
   "cell_type": "code",
   "execution_count": null,
   "id": "7d897eb6",
   "metadata": {},
   "outputs": [],
   "source": [
    "sns.countplot(data=df,x='Embarked', hue='Survived')"
   ]
  },
  {
   "cell_type": "code",
   "execution_count": null,
   "id": "7b287e92",
   "metadata": {},
   "outputs": [],
   "source": [
    "sns.pairplot(df,hue='Sex')"
   ]
  },
  {
   "cell_type": "code",
   "execution_count": null,
   "id": "8727c19a",
   "metadata": {},
   "outputs": [],
   "source": [
    "sns.set_style('whitegrid')\n",
    "sns.countplot(x='Survived',data=df)"
   ]
  },
  {
   "cell_type": "code",
   "execution_count": null,
   "id": "8dee1ce5",
   "metadata": {},
   "outputs": [],
   "source": [
    "sns.set_style('whitegrid')\n",
    "sns.countplot(x='Survived',hue='Sex' , data=df)"
   ]
  },
  {
   "cell_type": "code",
   "execution_count": null,
   "id": "a72dd79c",
   "metadata": {},
   "outputs": [],
   "source": [
    "sns.set_style('whitegrid')\n",
    "sns.countplot(x='Survived',hue='Pclass' , data=df)"
   ]
  },
  {
   "cell_type": "code",
   "execution_count": null,
   "id": "4f3267be",
   "metadata": {},
   "outputs": [],
   "source": [
    "sns.countplot(x='SibSp',data=df)"
   ]
  },
  {
   "cell_type": "code",
   "execution_count": null,
   "id": "9da37b0a",
   "metadata": {},
   "outputs": [],
   "source": [
    "df.isnull().sum()"
   ]
  },
  {
   "cell_type": "code",
   "execution_count": null,
   "id": "4f02929b",
   "metadata": {},
   "outputs": [],
   "source": [
    "sns.heatmap(df.isnull())"
   ]
  },
  {
   "cell_type": "code",
   "execution_count": null,
   "id": "3c228e6f",
   "metadata": {
    "scrolled": true
   },
   "outputs": [],
   "source": [
    "mean_value = df['Age'].mean()\n",
    "df['Age'].fillna(value=mean_value, inplace=True)"
   ]
  },
  {
   "cell_type": "code",
   "execution_count": null,
   "id": "b37aaff0",
   "metadata": {},
   "outputs": [],
   "source": [
    "df['Embarked'].value_counts()"
   ]
  },
  {
   "cell_type": "code",
   "execution_count": null,
   "id": "792a4410",
   "metadata": {
    "scrolled": true
   },
   "outputs": [],
   "source": [
    "sex = pd.get_dummies(df['Sex'],drop_first=True)\n",
    "embark = pd.get_dummies(df['Embarked'], drop_first=True)"
   ]
  },
  {
   "cell_type": "code",
   "execution_count": null,
   "id": "9dfc26a6",
   "metadata": {},
   "outputs": [],
   "source": [
    "df.drop([ 'Sex','Embarked','PassengerId', 'Name', 'Ticket', 'Fare', 'Cabin'],axis=1,inplace= True)"
   ]
  },
  {
   "cell_type": "code",
   "execution_count": null,
   "id": "9032f679",
   "metadata": {},
   "outputs": [],
   "source": [
    "df.head()"
   ]
  },
  {
   "cell_type": "code",
   "execution_count": null,
   "id": "b692b47f",
   "metadata": {},
   "outputs": [],
   "source": [
    "df=pd.concat([df,sex,embark],axis=1)"
   ]
  },
  {
   "cell_type": "code",
   "execution_count": null,
   "id": "2995744f",
   "metadata": {},
   "outputs": [],
   "source": [
    "df.head()"
   ]
  },
  {
   "cell_type": "code",
   "execution_count": null,
   "id": "32c4ca14",
   "metadata": {},
   "outputs": [],
   "source": [
    "df.isnull().sum()"
   ]
  },
  {
   "cell_type": "code",
   "execution_count": null,
   "id": "15e57843",
   "metadata": {},
   "outputs": [],
   "source": [
    "df.info()"
   ]
  },
  {
   "cell_type": "code",
   "execution_count": null,
   "id": "ac3b5fa7",
   "metadata": {},
   "outputs": [],
   "source": [
    "\n",
    "sns.heatmap(df.isnull(),data=df)\n"
   ]
  },
  {
   "cell_type": "markdown",
   "id": "d274b621",
   "metadata": {},
   "source": [
    "# LogisticRegression\n",
    "\n"
   ]
  },
  {
   "cell_type": "code",
   "execution_count": null,
   "id": "2f9945ba",
   "metadata": {},
   "outputs": [],
   "source": [
    "from sklearn.model_selection import train_test_split\n",
    "X_train , X_test ,y_train , y_test = train_test_split(df.drop('Survived',axis=1),df['Survived'],test_size=0.33, random_state=51)"
   ]
  },
  {
   "cell_type": "code",
   "execution_count": null,
   "id": "724b0f8c",
   "metadata": {},
   "outputs": [],
   "source": [
    "from sklearn.linear_model import LogisticRegression\n",
    "lr = LogisticRegression()\n",
    "lr.fit(X_train,y_train)"
   ]
  },
  {
   "cell_type": "code",
   "execution_count": null,
   "id": "c7318f0e",
   "metadata": {},
   "outputs": [],
   "source": [
    "lr.score(X_test,y_test)"
   ]
  },
  {
   "cell_type": "code",
   "execution_count": null,
   "id": "10e9090b",
   "metadata": {},
   "outputs": [],
   "source": [
    "predictions = logmodel.predict(X_test)"
   ]
  },
  {
   "cell_type": "code",
   "execution_count": null,
   "id": "a8846e17",
   "metadata": {},
   "outputs": [],
   "source": [
    "from sklearn.metrics import confusion_matrix"
   ]
  },
  {
   "cell_type": "code",
   "execution_count": null,
   "id": "0e28b021",
   "metadata": {},
   "outputs": [],
   "source": [
    "accuracy =accuracy_score(y_test,predictions)"
   ]
  },
  {
   "cell_type": "code",
   "execution_count": null,
   "id": "a54bbf3a",
   "metadata": {},
   "outputs": [],
   "source": [
    "accuracy"
   ]
  },
  {
   "cell_type": "code",
   "execution_count": null,
   "id": "ed53b930",
   "metadata": {},
   "outputs": [],
   "source": [
    "predictions"
   ]
  },
  {
   "cell_type": "code",
   "execution_count": null,
   "id": "f8d0f923",
   "metadata": {},
   "outputs": [],
   "source": []
  },
  {
   "cell_type": "code",
   "execution_count": null,
   "id": "4ac1a11f",
   "metadata": {},
   "outputs": [],
   "source": []
  },
  {
   "cell_type": "markdown",
   "id": "2ef3caa0",
   "metadata": {},
   "source": [
    "# DecisionTreeClassifier"
   ]
  },
  {
   "cell_type": "code",
   "execution_count": null,
   "id": "ef0bec1a",
   "metadata": {},
   "outputs": [],
   "source": [
    "from sklearn.model_selection import train_test_split\n",
    "X_train , X_test ,y_train , y_test = train_test_split(df.drop('Survived',axis=1),df['Survived'],test_size=0.3, random_state=51)"
   ]
  },
  {
   "cell_type": "code",
   "execution_count": null,
   "id": "516764ef",
   "metadata": {},
   "outputs": [],
   "source": [
    "from sklearn.tree import DecisionTreeClassifier\n",
    "dtc = DecisionTreeClassifier(criterion='entropy',random_state=4)\n",
    "dtc.fit(X_train,y_train)"
   ]
  },
  {
   "cell_type": "code",
   "execution_count": null,
   "id": "2d145054",
   "metadata": {},
   "outputs": [],
   "source": [
    "dtc.score(X_test,y_test)"
   ]
  },
  {
   "cell_type": "code",
   "execution_count": null,
   "id": "19dc543c",
   "metadata": {},
   "outputs": [],
   "source": [
    "predict = logmodel.predict(X_test)"
   ]
  },
  {
   "cell_type": "code",
   "execution_count": null,
   "id": "36e604d5",
   "metadata": {},
   "outputs": [],
   "source": [
    "from sklearn.metrics import confusion_matrix"
   ]
  },
  {
   "cell_type": "code",
   "execution_count": null,
   "id": "ba1526cc",
   "metadata": {},
   "outputs": [],
   "source": [
    "accuracy =accuracy_score(y_test,predict)"
   ]
  },
  {
   "cell_type": "code",
   "execution_count": null,
   "id": "03d145a7",
   "metadata": {},
   "outputs": [],
   "source": [
    "accuracy"
   ]
  },
  {
   "cell_type": "code",
   "execution_count": null,
   "id": "7e265565",
   "metadata": {},
   "outputs": [],
   "source": [
    "predict"
   ]
  },
  {
   "cell_type": "code",
   "execution_count": null,
   "id": "49755ed4",
   "metadata": {},
   "outputs": [],
   "source": []
  },
  {
   "cell_type": "markdown",
   "id": "6b8cb4dc",
   "metadata": {},
   "source": [
    "# model selection "
   ]
  },
  {
   "cell_type": "code",
   "execution_count": null,
   "id": "247f1608",
   "metadata": {},
   "outputs": [],
   "source": [
    "df.head()"
   ]
  },
  {
   "cell_type": "code",
   "execution_count": null,
   "id": "7a967444",
   "metadata": {},
   "outputs": [],
   "source": [
    "X = df.drop(columns = 'Survived',axis=1)\n",
    "Y = df['Survived']"
   ]
  },
  {
   "cell_type": "code",
   "execution_count": null,
   "id": "ac8027ac",
   "metadata": {},
   "outputs": [],
   "source": [
    "print(X)\n",
    "print('-------------------------------------')\n",
    "print(Y)"
   ]
  },
  {
   "cell_type": "code",
   "execution_count": null,
   "id": "53b53ec4",
   "metadata": {},
   "outputs": [],
   "source": [
    "X = np.asarray(X)\n",
    "Y = np.asarray(Y)"
   ]
  },
  {
   "cell_type": "code",
   "execution_count": null,
   "id": "de77bece",
   "metadata": {},
   "outputs": [],
   "source": [
    "from sklearn.model_selection import cross_val_score, GridSearchCV\n",
    "from sklearn.linear_model import LogisticRegression \n",
    "from sklearn.svm import SVC \n",
    "from sklearn.neighbors import KNeighborsClassifier\n",
    "from sklearn.ensemble import RandomForestClassifier\n",
    "from sklearn.tree import DecisionTreeClassifier"
   ]
  },
  {
   "cell_type": "code",
   "execution_count": null,
   "id": "eb3e00c1",
   "metadata": {},
   "outputs": [],
   "source": [
    "models = [LogisticRegression(max_iter=1000) , SVC(kernel='linear') , KNeighborsClassifier() ,\n",
    "          RandomForestClassifier(random_state=1),DecisionTreeClassifier(criterion='entropy',random_state=4)]"
   ]
  },
  {
   "cell_type": "code",
   "execution_count": null,
   "id": "99ee6178",
   "metadata": {},
   "outputs": [],
   "source": [
    "def compare_models_cross_validation():\n",
    "    for model in models:\n",
    "        \n",
    "        cv_score = cross_val_score(model,X,Y,cv=5)\n",
    "        mean_accuracy = sum(cv_score)/len(cv_score)\n",
    "        mean_accuracy = mean_accuracy*100\n",
    "        mean_accuracy = round(mean_accuracy,2)\n",
    "        \n",
    "        print('cross validation accuracy for the ',model,'=',cv_score)\n",
    "        print('Accuracy score of the',model,'=',mean_accuracy,'%')\n",
    "        print('========================================================')"
   ]
  },
  {
   "cell_type": "code",
   "execution_count": null,
   "id": "dc537971",
   "metadata": {},
   "outputs": [],
   "source": [
    "compare_models_cross_validation()"
   ]
  },
  {
   "cell_type": "markdown",
   "id": "84879105",
   "metadata": {},
   "source": [
    "# compare the model with different hypermeter values\n"
   ]
  },
  {
   "cell_type": "code",
   "execution_count": null,
   "id": "f4ed533e",
   "metadata": {},
   "outputs": [],
   "source": [
    "models_list = [LogisticRegression(max_iter=10000) , SVC() , KNeighborsClassifier() ,\n",
    "          RandomForestClassifier(random_state=1),DecisionTreeClassifier(random_state=4)]"
   ]
  },
  {
   "cell_type": "code",
   "execution_count": null,
   "id": "877ad8cc",
   "metadata": {},
   "outputs": [],
   "source": [
    "model_hyperparameters = {\n",
    "    \n",
    "    'log_reg_hperparameters': {\n",
    "        \n",
    "        'c': [1,5,10,20]\n",
    "    },\n",
    "    \n",
    "    'svc_hyperparameters': {\n",
    "        \n",
    "        'kernel': ['linear', 'poly', 'rbf', 'sigmoid'],\n",
    "        'c': [1,5,10,20]\n",
    "        \n",
    "    },\n",
    "    \n",
    "    'KNN_hyperparameter': {\n",
    "        \n",
    "        'n_neighbors': [3,5,7,10]\n",
    "        \n",
    "    }, \n",
    "    \n",
    "    'rando_forest_hyperparameters': {\n",
    "        \n",
    "        'n_estimators': [10,20,50,100]\n",
    "        \n",
    "    },\n",
    "    \n",
    "    'tree_hyperparameters':{\n",
    "        \n",
    "        'criterion': [\"gini\", \"entropy\", \"log_loss\"]\n",
    "    }\n",
    "    \n",
    "}"
   ]
  },
  {
   "cell_type": "code",
   "execution_count": null,
   "id": "59d8f656",
   "metadata": {},
   "outputs": [],
   "source": [
    "type(model_hyperparameters)"
   ]
  },
  {
   "cell_type": "code",
   "execution_count": null,
   "id": "416d0acd",
   "metadata": {},
   "outputs": [],
   "source": [
    "print(model_hyperparameters.keys())"
   ]
  },
  {
   "cell_type": "code",
   "execution_count": null,
   "id": "69dc2933",
   "metadata": {},
   "outputs": [],
   "source": [
    "print(model_hyperparameters.values())"
   ]
  },
  {
   "cell_type": "code",
   "execution_count": null,
   "id": "c268c399",
   "metadata": {},
   "outputs": [],
   "source": [
    "model_keys = list(model_hyperparameters.keys())"
   ]
  },
  {
   "cell_type": "code",
   "execution_count": null,
   "id": "81014387",
   "metadata": {},
   "outputs": [],
   "source": [
    "print(model_keys)"
   ]
  },
  {
   "cell_type": "code",
   "execution_count": null,
   "id": "86248889",
   "metadata": {},
   "outputs": [],
   "source": [
    "model_hyperparameters['svc_hyperparameters']"
   ]
  },
  {
   "cell_type": "code",
   "execution_count": null,
   "id": "5cb20351",
   "metadata": {},
   "outputs": [],
   "source": [
    "model_keys[0]"
   ]
  },
  {
   "cell_type": "code",
   "execution_count": null,
   "id": "14e3c5af",
   "metadata": {},
   "outputs": [],
   "source": [
    "model_hyperparameters[model_keys[1]]"
   ]
  },
  {
   "cell_type": "code",
   "execution_count": null,
   "id": "0ddf72a5",
   "metadata": {},
   "outputs": [],
   "source": [
    "def modelselection(list_of_models , hyperparameters_dictionary):\n",
    "    result = []\n",
    "    \n",
    "    i=0\n",
    "    \n",
    "    for model in models:\n",
    "        key =model_keys[i]\n",
    "        \n",
    "        params = hyperparameters_dictionary[key]\n",
    "        \n",
    "        i+= 1\n",
    "        \n",
    "        print(model)\n",
    "        print(params)\n",
    "        \n",
    "        classifier = GridSearchCV(model,params,cv=5)\n",
    "        classifier.fit(X,Y)\n",
    "        \n",
    "        result.append({\n",
    "            'model used ': model,\n",
    "            'highest score': classifier.best_score_ , \n",
    "            'best hyperparameters': classifier.best_params_\n",
    "        })\n",
    "result_dataframe= pd.DataFrame(result,columns =['model used','highest score','best hyperparameters'])\n",
    "return result_dataframe"
   ]
  },
  {
   "cell_type": "code",
   "execution_count": null,
   "id": "0979060d",
   "metadata": {},
   "outputs": [],
   "source": [
    "modelselection(models_list,model_hyperparameters)"
   ]
  }
 ],
 "metadata": {
  "kernelspec": {
   "display_name": "Python 3 (ipykernel)",
   "language": "python",
   "name": "python3"
  },
  "language_info": {
   "codemirror_mode": {
    "name": "ipython",
    "version": 3
   },
   "file_extension": ".py",
   "mimetype": "text/x-python",
   "name": "python",
   "nbconvert_exporter": "python",
   "pygments_lexer": "ipython3",
   "version": "3.9.7"
  }
 },
 "nbformat": 4,
 "nbformat_minor": 5
}
